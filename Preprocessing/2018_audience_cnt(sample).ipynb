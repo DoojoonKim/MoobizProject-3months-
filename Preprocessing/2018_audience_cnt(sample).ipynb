{
 "cells": [
  {
   "cell_type": "code",
   "execution_count": 6,
   "metadata": {},
   "outputs": [],
   "source": [
    "dict = {'탐정': '3152874',\n",
    " '마녀' : '3189091',\n",
    " '독전' : '5201555',\n",
    " '오션스8': '1335839',\n",
    " '허스토리': '336822',\n",
    " '미드나잇 선': '326086',\n",
    " '여중생 A': '97851',\n",
    " '앤트맨과 와스프': '5448134'}"
   ]
  },
  {
   "cell_type": "code",
   "execution_count": 7,
   "metadata": {},
   "outputs": [
    {
     "data": {
      "text/plain": [
       "독전          5201555\n",
       "마녀          3189091\n",
       "미드나잇 선       326086\n",
       "앤트맨과 와스프    5448134\n",
       "여중생 A         97851\n",
       "오션스8        1335839\n",
       "탐정          3152874\n",
       "허스토리         336822\n",
       "Name: audience_cnt, dtype: int32"
      ]
     },
     "execution_count": 7,
     "metadata": {},
     "output_type": "execute_result"
    }
   ],
   "source": [
    "import pandas as pd\n",
    "df = pd.DataFrame([dict])\n",
    "df = df.T\n",
    "df = df.rename(columns = { 0 : 'audience_cnt' })\n",
    "df['audience_cnt'].astype(int)"
   ]
  },
  {
   "cell_type": "code",
   "execution_count": 8,
   "metadata": {},
   "outputs": [],
   "source": [
    "df.to_csv( './data_2018/2018_audience_cnt', sep=',', encoding='utf-8' )"
   ]
  },
  {
   "cell_type": "code",
   "execution_count": null,
   "metadata": {},
   "outputs": [],
   "source": []
  }
 ],
 "metadata": {
  "kernelspec": {
   "display_name": "Python 3",
   "language": "python",
   "name": "python3"
  },
  "language_info": {
   "codemirror_mode": {
    "name": "ipython",
    "version": 3
   },
   "file_extension": ".py",
   "mimetype": "text/x-python",
   "name": "python",
   "nbconvert_exporter": "python",
   "pygments_lexer": "ipython3",
   "version": "3.7.1"
  }
 },
 "nbformat": 4,
 "nbformat_minor": 2
}
