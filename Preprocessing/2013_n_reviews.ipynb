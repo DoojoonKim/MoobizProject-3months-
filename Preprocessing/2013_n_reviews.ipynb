{
 "cells": [
  {
   "cell_type": "code",
   "execution_count": 1,
   "metadata": {},
   "outputs": [],
   "source": [
    "n_reviews_2013_1 = {\n",
    "'7번방의 선물': 41,\n",
    "'관상': 328,\n",
    "'아이언맨 3': 299,\n",
    "'설국열차': 2174,\n",
    "'베를린': 531,\n",
    "'은밀하게 위대하게': 755,\n",
    "'변호인': 3848,\n",
    "'숨바꼭질': 220,\n",
    "'더 테러 라이브': 218,\n",
    "'감시자들': 167,\n",
    "'월드 워 Z': 313,\n",
    "'신세계': 105,\n",
    "'박수건달': 75,\n",
    "'스파이': 103,\n",
    "'그래비티': 0,\n",
    "'타워': 242,\n",
    "'감기': 283,\n",
    "'토르: 다크 월드': 60,\n",
    "'레드: 더 레전드': 112,\n",
    "'친구 2': 367}"
   ]
  },
  {
   "cell_type": "code",
   "execution_count": 2,
   "metadata": {},
   "outputs": [],
   "source": [
    "n_reviews_2013_2 = {\n",
    "'어바웃 타임': 19,\n",
    "'나우 유 씨 미 : 마술사기단': 150,\n",
    "'레미제라블': 201,\n",
    "'소원': 44,\n",
    "'퍼시픽 림': 458,\n",
    "'화이: 괴물을 삼킨 아이': 175,\n",
    "'컨저링': 45,\n",
    "'맨 오브 스틸': 314,\n",
    "'용의자': 114,\n",
    "'호빗: 스마우그의 폐허': 69,\n",
    "'몽타주': 40,\n",
    "'연애의 온도': 163,\n",
    "'지.아이.조 2': 163,\n",
    "'분노의 질주: 더 맥시멈': 32,\n",
    "'공범': 89,\n",
    "'집으로 가는 길': 66,\n",
    "'전설의 주먹': 77,\n",
    "'파파로티': 44,\n",
    "'스타트렉 다크니스': 56,\n",
    "'오블리비언': 161}"
   ]
  },
  {
   "cell_type": "code",
   "execution_count": 3,
   "metadata": {},
   "outputs": [],
   "source": [
    "n_reviews_2013_4 = {'위대한 개츠비': 71,\n",
    "'다이하드: 굿 데이 투 다이': 82,\n",
    "'런닝맨': 64,\n",
    "'미스터 고': 326,\n",
    "'결혼전야': 35,\n",
    "'엘리시움': 210,\n",
    "'깡철이': 128,\n",
    "'더 웹툰: 예고살인': 69,\n",
    "'웜 바디스': 73,\n",
    "'고령화 가족': 49,\n",
    "'헝거게임: 캣칭 파이어': 58,\n",
    "'더 울버린': 403,\n",
    "'동창생': 164,\n",
    "'전국노래자랑': 117,\n",
    "'잭 더 자이언트 킬러': 76,\n",
    "'열한시': 121,\n",
    "'남쪽으로 튀어': 97,\n",
    "'잭 리처': 107,\n",
    "'반창꼬': 75,\n",
    "'더 파이브': 80}"
   ]
  },
  {
   "cell_type": "code",
   "execution_count": 4,
   "metadata": {},
   "outputs": [],
   "source": [
    "n_reviews_2013_6 = {'더 임파서블': 67,\n",
    " '인시디어스: 두번째 집': 43,\n",
    " '섀도우 헌터스: 뼈의 도시': 56,\n",
    " '화이트 하우스 다운': 59,\n",
    " '애프터 어스': 214,\n",
    " '사이코메트리': 61,\n",
    " '퍼시 잭슨과 괴물의 바다': 27,\n",
    " '남자사용설명서': 70,\n",
    " '다이노소어 어드벤처 3D': 5,\n",
    " '무서운 이야기 2': 177,\n",
    " '캐치미': 30,\n",
    " '노브레싱': 152,\n",
    " '클라우드 아틀라스': 151,\n",
    " '창수': 96,\n",
    " '헨젤과 그레텔 : 마녀 사냥꾼': 32,\n",
    " '론 레인저': 66,\n",
    " '스토커': 172,\n",
    " '오즈 그레이트 앤드 파워풀': 35,\n",
    " '미나문방구': 73,\n",
    " '차이니즈 조디악': 34}\n"
   ]
  },
  {
   "cell_type": "code",
   "execution_count": 5,
   "metadata": {},
   "outputs": [],
   "source": [
    "n_reviews_2013_8 = {'이스케이프 플랜': 19,\n",
    "'롤러코스터': 103,\n",
    "'장고:분노의 추적자': 62,\n",
    "'밤의 여왕': 34,\n",
    "'캡틴 필립스': 9,\n",
    "'잡스': 108,\n",
    "'분노의 윤리학': 90,\n",
    "'송 포 유': 4,\n",
    "'호빗: 뜻밖의 여정': 129,\n",
    "'비포 미드나잇': 17,\n",
    "'응징자': 51,\n",
    "'프리즈너스': 25,\n",
    "'마이 리틀 히어로': 35,\n",
    "'백악관 최후의 날': 49,\n",
    "'해양경찰 마르코': 6,\n",
    "'톱스타': 39,\n",
    "'노리개': 29,\n",
    "'엔더스 게임': 143,\n",
    "'히든 카드': 31}"
   ]
  },
  {
   "cell_type": "code",
   "execution_count": 7,
   "metadata": {},
   "outputs": [],
   "source": [
    "n_reviews_2013_1.update(n_reviews_2013_2)"
   ]
  },
  {
   "cell_type": "code",
   "execution_count": 8,
   "metadata": {},
   "outputs": [],
   "source": [
    "n_reviews_2013_1.update(n_reviews_2013_4)"
   ]
  },
  {
   "cell_type": "code",
   "execution_count": 9,
   "metadata": {},
   "outputs": [],
   "source": [
    "n_reviews_2013_1.update(n_reviews_2013_6)"
   ]
  },
  {
   "cell_type": "code",
   "execution_count": 10,
   "metadata": {},
   "outputs": [],
   "source": [
    "n_reviews_2013_1.update(n_reviews_2013_8)"
   ]
  },
  {
   "cell_type": "code",
   "execution_count": 13,
   "metadata": {},
   "outputs": [],
   "source": [
    "n_reviews_2013 = n_reviews_2013_1"
   ]
  },
  {
   "cell_type": "code",
   "execution_count": 15,
   "metadata": {},
   "outputs": [
    {
     "data": {
      "text/plain": [
       "99"
      ]
     },
     "execution_count": 15,
     "metadata": {},
     "output_type": "execute_result"
    }
   ],
   "source": [
    "n_reviews_2013"
   ]
  },
  {
   "cell_type": "code",
   "execution_count": 16,
   "metadata": {},
   "outputs": [],
   "source": [
    "import pandas as pd\n",
    "df = pd.DataFrame([n_reviews_2013])\n",
    "df = df.T\n",
    "df = df.rename(columns = { 0 : 'n_reviews' })\n",
    "df.to_csv( './data_2013/2013_n_reviews', sep=',', encoding='utf-8' )"
   ]
  },
  {
   "cell_type": "code",
   "execution_count": null,
   "metadata": {},
   "outputs": [],
   "source": []
  }
 ],
 "metadata": {
  "kernelspec": {
   "display_name": "Python 3",
   "language": "python",
   "name": "python3"
  },
  "language_info": {
   "codemirror_mode": {
    "name": "ipython",
    "version": 3
   },
   "file_extension": ".py",
   "mimetype": "text/x-python",
   "name": "python",
   "nbconvert_exporter": "python",
   "pygments_lexer": "ipython3",
   "version": "3.7.1"
  }
 },
 "nbformat": 4,
 "nbformat_minor": 2
}
