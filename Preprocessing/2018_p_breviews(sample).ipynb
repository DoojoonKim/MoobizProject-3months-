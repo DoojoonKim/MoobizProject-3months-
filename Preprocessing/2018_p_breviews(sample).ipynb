{
 "cells": [
  {
   "cell_type": "code",
   "execution_count": 1,
   "metadata": {},
   "outputs": [],
   "source": [
    "dict = {'마녀': 51,\n",
    " '독전': 221,\n",
    " '오션스8': 91,\n",
    " '허스토리': 74,\n",
    " '미드나잇 선': 26,\n",
    " '여중생 A': 120,\n",
    " '앤트맨과 와스프': 148}"
   ]
  },
  {
   "cell_type": "code",
   "execution_count": 2,
   "metadata": {},
   "outputs": [],
   "source": [
    "import pandas as pd\n",
    "df = pd.DataFrame([dict])\n",
    "df = df.T\n",
    "df = df.rename(columns = { 0 : 'p_breviews' })\n",
    "df.to_csv( './data_2018/2018_p_breviews', sep=',', encoding='utf-8' )"
   ]
  },
  {
   "cell_type": "code",
   "execution_count": null,
   "metadata": {},
   "outputs": [],
   "source": []
  }
 ],
 "metadata": {
  "kernelspec": {
   "display_name": "Python 3",
   "language": "python",
   "name": "python3"
  },
  "language_info": {
   "codemirror_mode": {
    "name": "ipython",
    "version": 3
   },
   "file_extension": ".py",
   "mimetype": "text/x-python",
   "name": "python",
   "nbconvert_exporter": "python",
   "pygments_lexer": "ipython3",
   "version": "3.6.8"
  }
 },
 "nbformat": 4,
 "nbformat_minor": 2
}
