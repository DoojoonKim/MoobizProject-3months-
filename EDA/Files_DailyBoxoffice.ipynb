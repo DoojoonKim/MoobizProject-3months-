{
 "cells": [
  {
   "cell_type": "code",
   "execution_count": null,
   "metadata": {},
   "outputs": [],
   "source": [
    "import json\n",
    "import math\n",
    "import requests\n",
    "import pandas\n",
    "from pandas import datetime, Series\n",
    "from urllib.request import urlopen\n",
    "from tkinter import *\n",
    "from urllib.parse import urlencode\n",
    "import os\n",
    "import pandas as pd\n"
   ]
  },
  {
   "cell_type": "code",
   "execution_count": null,
   "metadata": {},
   "outputs": [],
   "source": [
    "# 크롤링 데이터 기간 설정\n",
    "import datetime\n",
    "import time\n",
    "\n",
    "def days_between(d1, d2):\n",
    "    d1 = datetime.datetime.strptime(d1, \"%Y-%m-%d\")\n",
    "    d2 = datetime.datetime.strptime(d2, \"%Y-%m-%d\")\n",
    "    time_delta = abs((d2 - d1).days)\n",
    "    \n",
    "\n",
    "    daylist = []\n",
    "    for i in range(time_delta+1):\n",
    "        nd = datetime.datetime.strptime(sdate, \"%Y-%m-%d\") + datetime.timedelta(i)\n",
    "        daylist.append(nd.strftime('%Y%m%d'))\n",
    "    return daylist\n",
    "\n",
    "sdate = '2018-10-28'\n",
    "edate ='2019-02-28'\n",
    "day_list = days_between(sdate, edate)\n"
   ]
  },
  {
   "cell_type": "code",
   "execution_count": null,
   "metadata": {},
   "outputs": [],
   "source": [
    "api_key = '51006217c12a326f69fbb430dae35803'"
   ]
  },
  {
   "cell_type": "markdown",
   "metadata": {},
   "source": [
    "# 개봉일에 따른 일별 박스오피스 데이터들 추출\n"
   ]
  },
  {
   "cell_type": "code",
   "execution_count": null,
   "metadata": {},
   "outputs": [],
   "source": [
    "def get_movie_data(day_list):\n",
    "    url = \"http://www.kobis.or.kr/kobisopenapi/webservice/rest/boxoffice/searchDailyBoxOfficeList.json\"\n",
    "    params = {\"key\":api_key, \"targetDt\":day_list}\n",
    "    r = requests.get(url, params=params)\n",
    "    return r.json()"
   ]
  },
  {
   "cell_type": "code",
   "execution_count": null,
   "metadata": {},
   "outputs": [],
   "source": [
    "def make_movie_df(day_list):\n",
    "    movie_df = pd.DataFrame(columns = [\"movieNm\", \"openDt\", 'rank', \"scrnCnt\", \n",
    "                                       'audiCnt', 'showCnt'])\n",
    "    for i in day_list:\n",
    "        try:\n",
    "            for data in get_movie_data(i)['boxOfficeResult']['dailyBoxOfficeList']:\n",
    "                \n",
    "                movie_df.loc[len(movie_df)] = [\n",
    "                    data[\"movieNm\"],\n",
    "                    data[\"openDt\"],\n",
    "                    data['rank'],\n",
    "                    data['scrnCnt'],\n",
    "\n",
    "\n",
    "\n",
    "                    data['audiCnt'],\n",
    "                    data['showCnt']\n",
    "\n",
    "                    \n",
    "                \n",
    "\n",
    "                 \n",
    "                ]\n",
    "        except:\n",
    "            i\n",
    "    return movie_df"
   ]
  },
  {
   "cell_type": "code",
   "execution_count": null,
   "metadata": {},
   "outputs": [],
   "source": [
    "# def make_movie(day_list):\n",
    "#     movie_df = pd.DataFrame(columns = ['showRange'])\n",
    "#     for i in day_list:\n",
    "#         try:\n",
    "#             for data in get_movie_data(i)['boxOfficeResult']:\n",
    "                \n",
    "#                 movie_df.loc[len(movie_df)] = [\n",
    "#                     data[\"showRange\"]\n",
    "                    \n",
    "                \n",
    "\n",
    "                 \n",
    "#                 ]\n",
    "#         except:\n",
    "#             i\n",
    "#     return movie_df"
   ]
  },
  {
   "cell_type": "code",
   "execution_count": null,
   "metadata": {},
   "outputs": [],
   "source": [
    "b = make_movie_df(day_list)"
   ]
  },
  {
   "cell_type": "code",
   "execution_count": null,
   "metadata": {},
   "outputs": [],
   "source": [
    "b.to_excel('./data/2018_19.xlsx', encoding='utf-8')"
   ]
  },
  {
   "cell_type": "code",
   "execution_count": null,
   "metadata": {},
   "outputs": [],
   "source": [
    "movie_list = [\"1991, 봄\",\n",
    "'극장판 진격의 거인 2기: 각성의 포효',\n",
    "'나츠메 우인장: 세상과 연을 맺다',\n",
    "'바울',\n",
    "'벽 속에 숨은 마법시계',\n",
    "'보헤미안 랩소디',\n",
    "'완벽한 타인',\n",
    "'폴란드로 간 아이들',\n",
    "'그린치',\n",
    "'극장판 짱구는 못말려: 아뵤! 쿵후 보이즈 ~라면 대란~',\n",
    "'극장판 포켓몬스터 모두의 이야기',\n",
    "'마약왕',\n",
    "'스윙키즈',\n",
    "'아쿠아맨',\n",
    "'그린 북',\n",
    "'내안의 그놈',\n",
    "'말모이']"
   ]
  },
  {
   "cell_type": "code",
   "execution_count": null,
   "metadata": {},
   "outputs": [],
   "source": []
  },
  {
   "cell_type": "code",
   "execution_count": null,
   "metadata": {},
   "outputs": [],
   "source": [
    "rating_list = ['전체 관람가','15세 관람가','전체 관람가',\n",
    "               '12세 관람가', '15세 관람가', '전체 관람가', '전체 관람가', '전체 관람가',\n",
    "               '전체 관람가', '청소년 관람불가', '12세 관람가', '12세 관람가', '12세 관람가', \n",
    "               '15세 관람가', '12세 관람가']\n",
    "               \n",
    "nation_list = [ '일본', '미국', '미국', \n",
    "              '미국','한국', '한국' , '미국', '일본',\n",
    "               '일본', '한국', '한국', '미국', '미국', \n",
    "               '한국','한국']"
   ]
  },
  {
   "cell_type": "code",
   "execution_count": null,
   "metadata": {},
   "outputs": [],
   "source": [
    "df_rating = pd.DataFrame({'rating':rating_list})\n",
    "df_nation = pd.DataFrame({'nation': nation_list})"
   ]
  },
  {
   "cell_type": "code",
   "execution_count": null,
   "metadata": {},
   "outputs": [],
   "source": []
  },
  {
   "cell_type": "code",
   "execution_count": null,
   "metadata": {},
   "outputs": [],
   "source": [
    "df_movieNm = pd.DataFrame({'movieNm': movie_list})\n",
    "df_movieNm"
   ]
  },
  {
   "cell_type": "code",
   "execution_count": null,
   "metadata": {},
   "outputs": [],
   "source": [
    "# df2 = pd.merge(b, df_movieNm, on='movieNm')\n",
    "df2 = df2.drop_duplicates(subset='movieNm', keep='first')\n",
    "df2.index = pd.RangeIndex(len(df2))\n",
    "df2\n"
   ]
  },
  {
   "cell_type": "code",
   "execution_count": null,
   "metadata": {},
   "outputs": [],
   "source": [
    "df_movie = pd.DataFrame({'movieNm':df2['movieNm'], 'audiCnt':df2['audiCnt'], 'showCnt':df2['showCnt'],\n",
    "                         'nationAtt':'', 'openDt_season':'', 'openDt_peak':''})\n",
    "for idx, a in enumerate(df_nation['nation']):\n",
    "    if type(a) is not str:\n",
    "        continue\n",
    "    elif a == '한국':\n",
    "        df_movie.iloc[idx]['nationAtt'] = 0\n",
    "    else:\n",
    "        df_movie.iloc[idx]['nationAtt'] = 1\n",
    "# 한구깅면 0, 이외는 1\n",
    "\n",
    "# df_openDt_peak = pd.DataFrame({'movieNm':BasicData_set['movieNm'], 'openDt': BasicData_set['openDt'], \n",
    "#                    'openDt_peak':''})\n",
    "\n",
    "for idx, a in enumerate(df2['openDt']):\n",
    "#     print(idx, a)\n",
    "    a= datetime.datetime.strptime(a, '%Y-%m-%d')\n",
    "# 여름 성수기는 0, 겨울 성수기는 1, 비성수기는2 \n",
    "    if a.month == 7: \n",
    "        df_movie.iloc[idx]['openDt_peak'] = 0\n",
    "    elif a.month == 8: \n",
    "        df_movie.iloc[idx]['openDt_peak'] = 0\n",
    "    elif a.month == 9: \n",
    "        df_movie.iloc[idx]['openDt_peak'] = 0\n",
    "    elif a.month == 12: \n",
    "        df_movie.iloc[idx]['openDt_peak'] = 1\n",
    "    elif a.month == 1: \n",
    "        df_movie.iloc[idx]['openDt_peak'] = 1\n",
    "    elif a.month == 2: \n",
    "        df_movie.iloc[idx]['openDt_peak'] = 1\n",
    "    elif a.month == 1: \n",
    "        df_movie.iloc[idx]['openDt_peak'] = 2\n",
    "    elif a.month == 3: \n",
    "        df_movie.iloc[idx]['openDt_peak'] = 2\n",
    "    elif a.month == 4: \n",
    "        df_movie.iloc[idx]['openDt_peak'] = 2\n",
    "    elif a.month == 5: \n",
    "        df_movie.iloc[idx]['openDt_peak'] = 2\n",
    "    elif a.month == 6: \n",
    "        df_movie.iloc[idx]['openDt_peak'] = 2\n",
    "    elif a.month == 10: \n",
    "        df_movie.iloc[idx]['openDt_peak'] = 2\n",
    "    elif a.month == 11: \n",
    "        df_movie.iloc[idx]['openDt_peak'] = 2        \n",
    "\n",
    "# 봄은 1, 여름은 2 , 가을은 3, 겨울은 4        \n",
    "for idx, a in enumerate(df2['openDt']):\n",
    "    a= datetime.datetime.strptime(a, '%Y-%m-%d')\n",
    "    if a.month >= 3 and a.month <= 5: \n",
    "        df_movie.iloc[idx]['openDt_season'] = 1\n",
    "    elif a.month >= 6 and a.month <= 8: \n",
    "        df_movie.iloc[idx]['openDt_season'] = 2\n",
    "    elif a.month >= 9 and a.month <= 11: \n",
    "        df_movie.iloc[idx]['openDt_season'] = 3\n",
    "    else:\n",
    "        df_movie.iloc[idx]['openDt_season'] = 4\n",
    "        \n",
    "#12세 관람가는 0, 15세 관람가는 1, 청소년 관람불가는 2, 전체 관람가는 3\n",
    "\n",
    "rating_var = []\n",
    "for a in df_rating['rating']:\n",
    "#     print(type(a))\n",
    "#     df_actor_set['actor_var'] = pd.Series(df_actor_set['actor_var'])\n",
    "    if a == '12세 관람가':\n",
    "        rating_var.append(0)\n",
    "    elif a =='15세 관람가':\n",
    "        rating_var.append(1)\n",
    "    elif a =='청소년 관람불가':\n",
    "        rating_var.append(2)\n",
    "    elif a == '전체 관람가': \n",
    "        rating_var.append(3)\n",
    "\n",
    "df_movie['rating_Att'] = pd.Series(rating_var)\n",
    "\n"
   ]
  },
  {
   "cell_type": "code",
   "execution_count": null,
   "metadata": {},
   "outputs": [],
   "source": [
    "df_movie.to_csv('./data/2018_2019.csv', encoding='euc-kr')"
   ]
  },
  {
   "cell_type": "code",
   "execution_count": null,
   "metadata": {},
   "outputs": [],
   "source": [
    "df_movie['rank'] = df2['rank']\n",
    "df_movie.to_csv('./data/2018_2019.csv', encoding='euc-kr')"
   ]
  },
  {
   "cell_type": "code",
   "execution_count": null,
   "metadata": {},
   "outputs": [],
   "source": []
  },
  {
   "cell_type": "code",
   "execution_count": null,
   "metadata": {},
   "outputs": [],
   "source": [
    "a.to_excel('./data/dep_jan.xlsx', encoding='utf-8')"
   ]
  },
  {
   "cell_type": "code",
   "execution_count": null,
   "metadata": {},
   "outputs": [],
   "source": [
    "a.to_excel('./data/12월~1월.xlsx', encoding='utf-8')"
   ]
  },
  {
   "cell_type": "code",
   "execution_count": null,
   "metadata": {},
   "outputs": [],
   "source": [
    "a.to_excel('DailyBoxoffice_2012.xlsx', encoding='utf-8')"
   ]
  },
  {
   "cell_type": "code",
   "execution_count": null,
   "metadata": {},
   "outputs": [],
   "source": [
    "a = a.drop_duplicates('movieNm', keep='first')"
   ]
  },
  {
   "cell_type": "code",
   "execution_count": null,
   "metadata": {},
   "outputs": [],
   "source": [
    "a.index = pd.RangeIndex(len(a))\n"
   ]
  },
  {
   "cell_type": "code",
   "execution_count": null,
   "metadata": {},
   "outputs": [],
   "source": [
    "rating_list = ['12세', '15세','12세','12세', '12세', '전체', '전체', '청소년 불가', '전체',\n",
    "               '12세', '청소년 불가', '전체', '15세', '12세', '전체', '12세', '12세', '전체', \n",
    "               '15세', '15세', '12세', '전체', '전체', '15세', '15세', '전체']"
   ]
  },
  {
   "cell_type": "code",
   "execution_count": null,
   "metadata": {},
   "outputs": [],
   "source": [
    "a.to_excel('./data/12월~1월.xlsx', encoding='utf-8')"
   ]
  },
  {
   "cell_type": "code",
   "execution_count": null,
   "metadata": {},
   "outputs": [],
   "source": [
    "a['rating'] = rating_list"
   ]
  },
  {
   "cell_type": "code",
   "execution_count": null,
   "metadata": {},
   "outputs": [],
   "source": [
    "a"
   ]
  },
  {
   "cell_type": "code",
   "execution_count": null,
   "metadata": {},
   "outputs": [],
   "source": [
    "df = pd.DataFrame({'movieNm':a['movieNm'], \n",
    "                   'scrnCnt': a['scrnCnt'], \n",
    "                   'audiCnt': a['audiCnt'], 'rating':''})\n",
    "\n",
    "rating_var = []\n",
    "for  i in a['rating']:\n",
    "\n",
    "#     if type(a) is not str:\n",
    "#         continue\n",
    "    print(type(i))\n",
    "    if i == '12세':\n",
    "        rating_var.append(0)\n",
    "    elif i == '15세':\n",
    "        rating_var.append(1)\n",
    "    elif i == '전체':\n",
    "        rating_var.append(2)\n",
    "    elif i == '청소년 불가':\n",
    "        rating_var.append(3)\n",
    "        \n",
    "        "
   ]
  },
  {
   "cell_type": "code",
   "execution_count": null,
   "metadata": {},
   "outputs": [],
   "source": [
    "rating_var"
   ]
  },
  {
   "cell_type": "code",
   "execution_count": null,
   "metadata": {},
   "outputs": [],
   "source": [
    "df['rating'] = pd.Series(rating_var)\n",
    "df.to_csv('./data/12~01월.csv', encoding='euc-kr')"
   ]
  },
  {
   "cell_type": "code",
   "execution_count": null,
   "metadata": {},
   "outputs": [],
   "source": [
    "movie_list = []\n",
    "for i in a['movieNm']:\n",
    "    movie_list.append(i)\n",
    "movie_list"
   ]
  },
  {
   "cell_type": "code",
   "execution_count": null,
   "metadata": {},
   "outputs": [],
   "source": [
    "dt_index = pandas.date_range(start='20170101', end='20171231')\n",
    "# pandas.date_range(start='20160901', end='20161031',freq='W-MON')\n",
    "# 을 하면 해당 기간 매주 월요일들만 추출합니다.\n",
    "\n",
    "# type(dt_index) => DatetimeIndex\n",
    "# DatetimeIndex => list(str)\n",
    "dt_list = dt_index.strftime(\"%Y%m%d\").tolist()\n",
    "b = []\n",
    "for i in dt_list:\n",
    "    print(i)\n",
    "    b.append(i)"
   ]
  },
  {
   "cell_type": "code",
   "execution_count": null,
   "metadata": {},
   "outputs": [],
   "source": [
    "b"
   ]
  },
  {
   "cell_type": "code",
   "execution_count": null,
   "metadata": {},
   "outputs": [],
   "source": [
    "b = b * 10"
   ]
  },
  {
   "cell_type": "code",
   "execution_count": null,
   "metadata": {},
   "outputs": [],
   "source": [
    "b.sort()"
   ]
  },
  {
   "cell_type": "code",
   "execution_count": null,
   "metadata": {},
   "outputs": [],
   "source": [
    "df_day_list = pd.DataFrame(b)\n",
    "df_day_list.columns = ['searchDay']\n",
    "df_day_list.to_excel('searchDay_2018.xlsx', encoding='utf-8')"
   ]
  },
  {
   "cell_type": "code",
   "execution_count": null,
   "metadata": {},
   "outputs": [],
   "source": [
    "b"
   ]
  },
  {
   "cell_type": "code",
   "execution_count": null,
   "metadata": {},
   "outputs": [],
   "source": []
  },
  {
   "cell_type": "code",
   "execution_count": null,
   "metadata": {},
   "outputs": [],
   "source": []
  },
  {
   "cell_type": "code",
   "execution_count": null,
   "metadata": {},
   "outputs": [],
   "source": []
  },
  {
   "cell_type": "code",
   "execution_count": null,
   "metadata": {},
   "outputs": [],
   "source": []
  },
  {
   "cell_type": "code",
   "execution_count": null,
   "metadata": {},
   "outputs": [],
   "source": []
  },
  {
   "cell_type": "code",
   "execution_count": null,
   "metadata": {},
   "outputs": [],
   "source": []
  },
  {
   "cell_type": "code",
   "execution_count": null,
   "metadata": {},
   "outputs": [],
   "source": []
  },
  {
   "cell_type": "code",
   "execution_count": null,
   "metadata": {},
   "outputs": [],
   "source": []
  },
  {
   "cell_type": "code",
   "execution_count": null,
   "metadata": {},
   "outputs": [],
   "source": []
  },
  {
   "cell_type": "code",
   "execution_count": null,
   "metadata": {},
   "outputs": [],
   "source": []
  },
  {
   "cell_type": "code",
   "execution_count": null,
   "metadata": {},
   "outputs": [],
   "source": []
  },
  {
   "cell_type": "code",
   "execution_count": null,
   "metadata": {},
   "outputs": [],
   "source": []
  },
  {
   "cell_type": "code",
   "execution_count": null,
   "metadata": {},
   "outputs": [],
   "source": []
  },
  {
   "cell_type": "code",
   "execution_count": null,
   "metadata": {},
   "outputs": [],
   "source": []
  },
  {
   "cell_type": "code",
   "execution_count": null,
   "metadata": {},
   "outputs": [],
   "source": [
    "# b.index = pd.RangeIndex(len(b.index))\n",
    "# b"
   ]
  },
  {
   "cell_type": "code",
   "execution_count": null,
   "metadata": {},
   "outputs": [],
   "source": [
    "# b.to_excel('마지막 개봉일 스크린 수(2013-2017).xlsx', encoding='utf-8')"
   ]
  },
  {
   "cell_type": "code",
   "execution_count": null,
   "metadata": {},
   "outputs": [],
   "source": [
    "# import requests\n",
    "# import json\n",
    "# import time\n",
    "# import datetime\n",
    "\n",
    "# # my_datetime = datetime.datetime(2013, 1, 1)\n",
    "# # try:\n",
    "# for i in day_list:\n",
    "# #     new_datetime = my_datetime + datetime.timedelta(days=i)\n",
    "#     targetDt = new_datetime.strftime('%Y%m%d') #20180220\n",
    "#     #print(i)\n",
    "#     #print(targetDt)\n",
    "#     #url = 'http://www.kobis.or.kr/kobisopenapi/webservice/rest/boxoffice/searchDailyBoxOfficeList.json?key=130ad25d8935a673ca47beb43436aa85&targetDt=20180220'\n",
    "#     url = 'http://www.kobis.or.kr/kobisopenapi/webservice/rest/boxoffice/searchDailyBoxOfficeList.json?key={}&targetDt={}'.format(api_key, targetDt)\n",
    "#     res = requests.get(url)\n",
    "#     text = res.text\n",
    "#     #print(text)\n",
    "\n",
    "#     d = json.loads(text) \n",
    "#     #print(d)\n",
    "#     movie_rank_scrnCnt = []\n",
    "#     for b in d['boxOfficeResult']['dailyBoxOfficeList']:\n",
    "         \n",
    "#         a = targetDt, b['rank'], b['movieNm'], b['openDt'], b['scrnCnt'],b['audiCnt']\n",
    "#         movie_rank_scrnCnt.append(a)\n",
    "# # except:\n",
    "# #             i\n",
    "# #     time.sleep(1)\n",
    "# movie_rank_scrnCnt\n",
    "# # b"
   ]
  },
  {
   "cell_type": "code",
   "execution_count": null,
   "metadata": {},
   "outputs": [],
   "source": []
  },
  {
   "cell_type": "code",
   "execution_count": null,
   "metadata": {},
   "outputs": [],
   "source": []
  },
  {
   "cell_type": "code",
   "execution_count": null,
   "metadata": {},
   "outputs": [],
   "source": []
  },
  {
   "cell_type": "code",
   "execution_count": null,
   "metadata": {},
   "outputs": [],
   "source": []
  },
  {
   "cell_type": "code",
   "execution_count": null,
   "metadata": {},
   "outputs": [],
   "source": []
  },
  {
   "cell_type": "code",
   "execution_count": null,
   "metadata": {},
   "outputs": [],
   "source": []
  },
  {
   "cell_type": "code",
   "execution_count": null,
   "metadata": {},
   "outputs": [],
   "source": []
  },
  {
   "cell_type": "code",
   "execution_count": null,
   "metadata": {},
   "outputs": [],
   "source": []
  }
 ],
 "metadata": {
  "kernelspec": {
   "display_name": "Python 3",
   "language": "python",
   "name": "python3"
  },
  "language_info": {
   "codemirror_mode": {
    "name": "ipython",
    "version": 3
   },
   "file_extension": ".py",
   "mimetype": "text/x-python",
   "name": "python",
   "nbconvert_exporter": "python",
   "pygments_lexer": "ipython3",
   "version": "3.7.0"
  }
 },
 "nbformat": 4,
 "nbformat_minor": 2
}
