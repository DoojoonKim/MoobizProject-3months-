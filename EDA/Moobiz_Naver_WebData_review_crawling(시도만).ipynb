{
 "cells": [
  {
   "cell_type": "code",
   "execution_count": 12,
   "metadata": {},
   "outputs": [],
   "source": [
    "import requests\n",
    "from bs4 import BeautifulSoup\n",
    "from time import sleep\n",
    "from selenium import webdriver as wd\n",
    "import time\n",
    "import urllib.request\n",
    "from urllib.parse import urlparse\n",
    "import pandas as pd"
   ]
  },
  {
   "cell_type": "code",
   "execution_count": 24,
   "metadata": {},
   "outputs": [],
   "source": [
    "def Get_Movie_Code():\n",
    "    driver = wd.Chrome('chromedriver')\n",
    "    driver.get('https://movie.naver.com/')\n",
    "    movieCd = []\n",
    "    driver.find_element_by_css_selector('#ipt_tx_srch').send_keys('극한직업')\n",
    "    driver.find_element_by_css_selector('#jSearchArea > div > button').click()\n",
    "    movieCd_a = driver.find_elements_by_css_selector('#old_content > ul.search_list_1 > li:nth-child(1) > dl > dt > a')\n",
    "    for i in movieCd_a:\n",
    "        i = i.get_attribute('href')\n",
    "        o = urlparse(i)\n",
    "        a = o.query\n",
    "        movieCd.append(a[5:])\n",
    "    \n"
   ]
  },
  {
   "cell_type": "code",
   "execution_count": 25,
   "metadata": {},
   "outputs": [],
   "source": [
    "chk = False\n",
    "for code in movieCd:\n",
    "    site1 = 'https://movie.naver.com/movie/point/af/list.nhn?st=mcode&sword=%d&target=after' % code\n",
    "    res1 = requests.get(site1)\n",
    "    if res1.status_code == requests.codes,ok:\n",
    "        "
   ]
  },
  {
   "cell_type": "markdown",
   "metadata": {},
   "source": [
    "# 극한직업 리뷰 크롤링"
   ]
  },
  {
   "cell_type": "code",
   "execution_count": 9,
   "metadata": {},
   "outputs": [],
   "source": [
    "driver = wd.Chrome('chromedriver')\n",
    "driver.get( 'https://movie.naver.com/' )\n",
    "\n",
    "review = []\n",
    "\n",
    "driver.find_element_by_css_selector('#ipt_tx_srch').send_keys('극한직업')\n",
    "driver.find_element_by_css_selector('#jSearchArea > div > button').click()\n",
    "driver.find_element_by_css_selector('#old_content > ul.search_list_1 > li:nth-child(1) > dl > dt > a').click()\n",
    "driver.find_element_by_css_selector('#movieEndTabMenu > li:nth-child(5) > a').click()\n",
    "review_elements = driver.find_elements_by_css_selector('body > div > div > div.score_result > ul > li:nth-child(1) > div.score_reple > p')\n",
    "for i in review_elements:\n",
    "    review.append(i)\n",
    "# for a in movieNm_list:\n",
    "#     driver.find_element_by_css_selector('#ipt_tx_srch').send_keys(a)\n",
    "#     driver.find_element_by_css_selector('#jSearchArea > div > button').click()\n",
    "    \n",
    "#     driver.find_element_by_css_selector('#old_content > ul.search_list_1 > li > dl > dt > a').click()\n",
    "#     moviePoster_a = driver.find_elements_by_css_selector('#content > div.article > div.mv_info_area > div.poster > a > img')\n",
    "    \n",
    "#     for image in moviePoster_a:\n",
    "#         image = image.get_attribute('src')\n",
    "#         moviePoster.append(image)\n",
    "        \n",
    "#     movieNm_a = driver.find_element_by_css_selector('#content > div.article > div.mv_info_area > div.mv_info > h3 > a:nth-child(1)').text\n",
    "#     openDt_a = driver.find_element_by_css_selector('#content > div.article > div.mv_info_area > div.mv_info > dl > dd:nth-child(2) > p > span:nth-child(4)').text[:11]              \n",
    "#     movieInfo_a = driver.find_element_by_css_selector('#content > div.article > div.section_group.section_group_frst > div:nth-child(1) > div > div.story_area > p').text[:50].splitlines()\n",
    "#     movieNm.append(movieNm_a)\n",
    "#     openDt.append(openDt_a)\n",
    "#     movieInfo.append(movieInfo_a)\n"
   ]
  },
  {
   "cell_type": "code",
   "execution_count": null,
   "metadata": {},
   "outputs": [],
   "source": [
    "df_web = pd.DataFrame({'movieNm':movieNm, 'openDt':openDt, 'moviePoster':movieposter})\n",
    "openDt_list = []\n",
    "for a in df_web['openDt']:\n",
    "    a = a.replace(',', '')\n",
    "    a = a.strip()\n",
    "    openDt_list.append(a)\n",
    "openDt_list"
   ]
  },
  {
   "cell_type": "code",
   "execution_count": null,
   "metadata": {},
   "outputs": [],
   "source": [
    "openDt_list = []\n",
    "for a in "
   ]
  },
  {
   "cell_type": "code",
   "execution_count": null,
   "metadata": {},
   "outputs": [],
   "source": []
  }
 ],
 "metadata": {
  "kernelspec": {
   "display_name": "Python 3",
   "language": "python",
   "name": "python3"
  },
  "language_info": {
   "codemirror_mode": {
    "name": "ipython",
    "version": 3
   },
   "file_extension": ".py",
   "mimetype": "text/x-python",
   "name": "python",
   "nbconvert_exporter": "python",
   "pygments_lexer": "ipython3",
   "version": "3.7.0"
  }
 },
 "nbformat": 4,
 "nbformat_minor": 2
}
