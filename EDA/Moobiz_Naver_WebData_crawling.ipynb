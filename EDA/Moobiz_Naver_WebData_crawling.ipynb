{
 "cells": [
  {
   "cell_type": "code",
   "execution_count": 1,
   "metadata": {},
   "outputs": [],
   "source": [
    "from selenium import webdriver as wd\n",
    "import time\n",
    "import urllib.request\n",
    "from urllib.parse import urlparse\n",
    "import pandas as pd\n"
   ]
  },
  {
   "cell_type": "markdown",
   "metadata": {},
   "source": [
    "# 최근 몇 달 사이의 영화들에 대한 정보들 크롤링"
   ]
  },
  {
   "cell_type": "code",
   "execution_count": 2,
   "metadata": {},
   "outputs": [],
   "source": [
    "df = pd.read_excel('./data/review.xlsx')"
   ]
  },
  {
   "cell_type": "code",
   "execution_count": 9,
   "metadata": {},
   "outputs": [
    {
     "data": {
      "text/plain": [
       "89"
      ]
     },
     "execution_count": 9,
     "metadata": {},
     "output_type": "execute_result"
    }
   ],
   "source": [
    "movieNm_list = df['movieNm'].tolist()\n",
    "movieNm_list.remove('디 엔드? (The End?)')\n",
    "len(movieNm_list)"
   ]
  },
  {
   "cell_type": "code",
   "execution_count": 11,
   "metadata": {},
   "outputs": [],
   "source": [
    "driver = wd.Chrome('chromedriver')\n",
    "driver.get( 'https://movie.naver.com/' )\n",
    "\n",
    "movieCd = []\n",
    "movieNm = []\n",
    "openDt = []\n",
    "movieInfo = []\n",
    "moviePoster = []\n",
    "for a in movieNm_list:\n",
    "    driver.find_element_by_css_selector('#ipt_tx_srch').send_keys(a)\n",
    "    driver.find_element_by_css_selector('#jSearchArea > div > button').click()\n",
    "    \n",
    "    driver.find_element_by_css_selector('#old_content > ul.search_list_1 > li > dl > dt > a').click()\n",
    "    moviePoster_a = driver.find_elements_by_css_selector('#content > div.article > div.mv_info_area > div.poster > a > img')\n",
    "    \n",
    "    for image in moviePoster_a:\n",
    "        image = image.get_attribute('src')\n",
    "        moviePoster.append(image)\n",
    "        \n",
    "    movieNm_a = driver.find_element_by_css_selector('#content > div.article > div.mv_info_area > div.mv_info > h3 > a:nth-child(1)').text\n",
    "    openDt_a = driver.find_element_by_css_selector('#content > div.article > div.mv_info_area > div.mv_info > dl > dd:nth-child(2) > p > span:nth-child(4)').text[:11]              \n",
    "    movieInfo_a = driver.find_element_by_css_selector('#content > div.article > div.section_group.section_group_frst > div:nth-child(1) > div > div.story_area > p').text[:50].splitlines()\n",
    "    movieNm.append(movieNm_a)\n",
    "    openDt.append(openDt_a)\n",
    "    movieInfo.append(movieInfo_a)\n"
   ]
  },
  {
   "cell_type": "code",
   "execution_count": null,
   "metadata": {},
   "outputs": [],
   "source": [
    "df_web = pd.DataFrame({'movieNm':movieNm, 'openDt':openDt, 'moviePoster':movieposter})\n",
    "openDt_list = []\n",
    "for a in df_web['openDt']:\n",
    "    a = a.replace(',', '')\n",
    "    a = a.strip()\n",
    "    openDt_list.append(a)\n",
    "openDt_list"
   ]
  }
 ],
 "metadata": {
  "kernelspec": {
   "display_name": "Python 3",
   "language": "python",
   "name": "python3"
  },
  "language_info": {
   "codemirror_mode": {
    "name": "ipython",
    "version": 3
   },
   "file_extension": ".py",
   "mimetype": "text/x-python",
   "name": "python",
   "nbconvert_exporter": "python",
   "pygments_lexer": "ipython3",
   "version": "3.7.0"
  }
 },
 "nbformat": 4,
 "nbformat_minor": 2
}
