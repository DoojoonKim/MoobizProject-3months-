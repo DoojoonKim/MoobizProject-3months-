{
 "cells": [
  {
   "cell_type": "code",
   "execution_count": 25,
   "metadata": {},
   "outputs": [],
   "source": [
    "import json\n",
    "import math\n",
    "import requests\n",
    "from pandas import datetime, Series\n",
    "from urllib.request import urlopen\n",
    "from urllib.parse import urlencode\n",
    "import os\n",
    "import pandas as pd\n",
    "# from datetime import datetime\n",
    "import datetime\n",
    "\n",
    "from datetime import timedelta"
   ]
  },
  {
   "cell_type": "markdown",
   "metadata": {},
   "source": [
    "# api키 입력"
   ]
  },
  {
   "cell_type": "code",
   "execution_count": 9,
   "metadata": {},
   "outputs": [],
   "source": [
    "api_key = 'a37309d4545a0c715c2171adbda24a74'"
   ]
  },
  {
   "cell_type": "markdown",
   "metadata": {},
   "source": [
    "# 일별 박스오피스 데이터들(일자로 나눠서 10개 가져오기)"
   ]
  },
  {
   "cell_type": "code",
   "execution_count": 24,
   "metadata": {},
   "outputs": [
    {
     "name": "stdout",
     "output_type": "stream",
     "text": [
      "{'boxOfficeResult': {'boxofficeType': '일별 박스오피스', 'showRange': '20160515~20160515', 'dailyBoxOfficeList': [{'rnum': '1', 'rank': '1', 'rankInten': '0', 'rankOldAndNew': 'OLD', 'movieCd': '20140194', 'movieNm': '곡성', 'openDt': '2016-05-12', 'salesAmt': '5593196400', 'salesShare': '64.4', 'salesInten': '-812634273', 'salesChange': '-12.7', 'salesAcc': '19160332382', 'audiCnt': '661819', 'audiInten': '-99541', 'audiChange': '-13.1', 'audiAcc': '2319396', 'scrnCnt': '1485', 'showCnt': '6369'}, {'rnum': '2', 'rank': '2', 'rankInten': '0', 'rankOldAndNew': 'OLD', 'movieCd': '20159364', 'movieNm': '캡틴 아메리카: 시빌 워', 'openDt': '2016-04-27', 'salesAmt': '1593004200', 'salesShare': '18.3', 'salesInten': '-486480713', 'salesChange': '-23.4', 'salesAcc': '69173794167', 'audiCnt': '182651', 'audiInten': '-53890', 'audiChange': '-22.8', 'audiAcc': '8242148', 'scrnCnt': '777', 'showCnt': '3092'}, {'rnum': '3', 'rank': '3', 'rankInten': '0', 'rankOldAndNew': 'OLD', 'movieCd': '20142406', 'movieNm': '탐정 홍길동: 사라진 마을', 'openDt': '2016-05-04', 'salesAmt': '684329720', 'salesShare': '7.9', 'salesInten': '-125933487', 'salesChange': '-15.5', 'salesAcc': '9797549245', 'audiCnt': '82044', 'audiInten': '-15075', 'audiChange': '-15.5', 'audiAcc': '1205804', 'scrnCnt': '488', 'showCnt': '1542'}, {'rnum': '4', 'rank': '4', 'rankInten': '1', 'rankOldAndNew': 'OLD', 'movieCd': '20162704', 'movieNm': '극장판 안녕 자두야', 'openDt': '2016-05-04', 'salesAmt': '156886000', 'salesShare': '1.8', 'salesInten': '2844000', 'salesChange': '1.8', 'salesAcc': '2015696000', 'audiCnt': '20729', 'audiInten': '300', 'audiChange': '1.5', 'audiAcc': '263869', 'scrnCnt': '320', 'showCnt': '462'}, {'rnum': '5', 'rank': '5', 'rankInten': '-1', 'rankOldAndNew': 'OLD', 'movieCd': '20162627', 'movieNm': '다이버전트 시리즈: 얼리전트', 'openDt': '2016-05-12', 'salesAmt': '166223000', 'salesShare': '1.9', 'salesInten': '-39017323', 'salesChange': '-19', 'salesAcc': '615811045', 'audiCnt': '20039', 'audiInten': '-4744', 'audiChange': '-19.1', 'audiAcc': '76122', 'scrnCnt': '372', 'showCnt': '783'}, {'rnum': '6', 'rank': '6', 'rankInten': '1', 'rankOldAndNew': 'OLD', 'movieCd': '20163137', 'movieNm': '나의 소녀시대', 'openDt': '2016-05-12', 'salesAmt': '128605200', 'salesShare': '1.5', 'salesInten': '14983800', 'salesChange': '13.2', 'salesAcc': '393532800', 'audiCnt': '14914', 'audiInten': '1839', 'audiChange': '14.1', 'audiAcc': '46544', 'scrnCnt': '125', 'showCnt': '268'}, {'rnum': '7', 'rank': '7', 'rankInten': '-1', 'rankOldAndNew': 'OLD', 'movieCd': '20143509', 'movieNm': '엽기적인 그녀 2', 'openDt': '2016-05-12', 'salesAmt': '92660100', 'salesShare': '1.1', 'salesInten': '-20196400', 'salesChange': '-17.9', 'salesAcc': '452556300', 'audiCnt': '11088', 'audiInten': '-2410', 'audiChange': '-17.9', 'audiAcc': '56691', 'scrnCnt': '380', 'showCnt': '734'}, {'rnum': '8', 'rank': '8', 'rankInten': '0', 'rankOldAndNew': 'OLD', 'movieCd': '20155501', 'movieNm': '주토피아', 'openDt': '2016-02-17', 'salesAmt': '72259100', 'salesShare': '0.8', 'salesInten': '-4042700', 'salesChange': '-5.3', 'salesAcc': '37017403642', 'audiCnt': '8905', 'audiInten': '-479', 'audiChange': '-5.1', 'audiAcc': '4695025', 'scrnCnt': '178', 'showCnt': '226'}, {'rnum': '9', 'rank': '9', 'rankInten': '1', 'rankOldAndNew': 'OLD', 'movieCd': '20162542', 'movieNm': '다이노소어 어드벤처 : 백악기 공룡대백과', 'openDt': '2016-05-04', 'salesAmt': '47487000', 'salesShare': '0.5', 'salesInten': '1416100', 'salesChange': '3.1', 'salesAcc': '818818700', 'audiCnt': '6391', 'audiInten': '168', 'audiChange': '2.7', 'audiAcc': '106928', 'scrnCnt': '158', 'showCnt': '200'}, {'rnum': '10', 'rank': '10', 'rankInten': '-1', 'rankOldAndNew': 'OLD', 'movieCd': '20162300', 'movieNm': '매직브러시', 'openDt': '2016-05-04', 'salesAmt': '44424100', 'salesShare': '0.5', 'salesInten': '-5239800', 'salesChange': '-10.6', 'salesAcc': '1260054200', 'audiCnt': '5783', 'audiInten': '-739', 'audiChange': '-11.3', 'audiAcc': '166678', 'scrnCnt': '167', 'showCnt': '202'}]}}\n"
     ]
    }
   ],
   "source": [
    "class BoxOffice(object):\n",
    "\n",
    "    api_key = 'a37309d4545a0c715c2171adbda24a74'   \n",
    "    def __init__(self, api_key):\n",
    "        self.api_key = api_key\n",
    "    def get_data(self):\n",
    "        url = 'http://www.kobis.or.kr/kobisopenapi/webservice/rest/boxoffice/searchDailyBoxOfficeList.json'\n",
    "        target_dt = datetime.datetime.now() - timedelta(days = 1000) # 현재날자에서 -1한 날(일)_\n",
    "        target_dt = datetime.datetime.strftime(target_dt, '%Y%m%d')\n",
    "#         targetDt = str(target_dt) # 날짜를 문자열로 변환해라\n",
    "        query_url = '{}?key={}&targetDt={}'.format(url, api_key, target_dt) # 영화진흥흥회의 응답 url이지요\n",
    "        with urlopen(query_url) as fin:\n",
    "            return json.loads(fin.read().decode('utf-8'))\n",
    "\n",
    "    def simplify(self, result): # 내가 가져오고 싶은거 가져올거다\n",
    "        return [\n",
    "            {\n",
    "                '순위' : entry.get('rank'), # 해당일자의 박오 순위다\n",
    "                '영화명' : entry.get('movieNm'),\n",
    "                '상영된 스크린 수' : entry.get('scrnCnt')\n",
    "\n",
    "            }\n",
    "            for entry in result.get('boxOfficeResult').get('dailyBoxOfficeList') # 응답된 경과 에서 일일 박스오피스 차트를 가져와보까\n",
    "\n",
    "        ]\n",
    "box = BoxOffice(api_key) # 내 Key\n",
    "\n",
    "movies = box.get_data() # 일일 박오 정보 가져와\n",
    "a = box.simplify(movies)\n",
    "print(movies) # 정보 출력\n"
   ]
  },
  {
   "cell_type": "markdown",
   "metadata": {},
   "source": [
    "# 영화리스트 데이터 가져오기"
   ]
  },
  {
   "cell_type": "code",
   "execution_count": 11,
   "metadata": {},
   "outputs": [
    {
     "data": {
      "text/plain": [
       "[{'movieCd': '20197149',\n",
       "  'movieNm': '옷코는 초등학생 사장님!',\n",
       "  'repNationNm': '일본',\n",
       "  'openDt': '20190227'},\n",
       " {'movieCd': '20197331',\n",
       "  'movieNm': '다크 크라임스',\n",
       "  'repNationNm': '미국',\n",
       "  'openDt': ''},\n",
       " {'movieCd': '20197330',\n",
       "  'movieNm': '세상 받든 이야기 마더 박청수',\n",
       "  'repNationNm': '한국',\n",
       "  'openDt': ''},\n",
       " {'movieCd': '20197294', 'movieNm': '첫걸음', 'repNationNm': '벨기에', 'openDt': ''},\n",
       " {'movieCd': '20180064',\n",
       "  'movieNm': '시크릿 슈퍼스타',\n",
       "  'repNationNm': '인도',\n",
       "  'openDt': ''},\n",
       " {'movieCd': '20180794',\n",
       "  'movieNm': '엣지 오브 세븐틴',\n",
       "  'repNationNm': '한국',\n",
       "  'openDt': ''},\n",
       " {'movieCd': '20197329', 'movieNm': '선택', 'repNationNm': '브라질', 'openDt': ''},\n",
       " {'movieCd': '20180793', 'movieNm': '기권', 'repNationNm': '한국', 'openDt': ''},\n",
       " {'movieCd': '20180792', 'movieNm': '산신령', 'repNationNm': '한국', 'openDt': ''},\n",
       " {'movieCd': '20197328',\n",
       "  'movieNm': '어제의 탄원자, 오늘의 탄원자',\n",
       "  'repNationNm': '그리스',\n",
       "  'openDt': ''}]"
      ]
     },
     "execution_count": 11,
     "metadata": {},
     "output_type": "execute_result"
    }
   ],
   "source": [
    "class MovieList(object):\n",
    "    base_url = 'http://www.kobis.or.kr/kobisopenapi/webservice/rest/movie/' \\\n",
    "               'searchMovieList.json'\n",
    "\n",
    "    def __init__(self,  api_key):\n",
    "        self.api_key = api_key\n",
    "\n",
    "    def get_list(self):\n",
    "        # 현재의 날짜에 하루를 빼는 것\n",
    "#         target_dt = datetime.now() - timedelta(days=1)\n",
    "        # 년도월일 형식으로 저장\n",
    "#         target_dt_str = target_dt.strftime('%Y%m%d')\n",
    "        # url 형성\n",
    "        query_url = '{}?key={}'.format(self.base_url, self.api_key)\n",
    "        # URLLIB 모듈 - urlopen 함수 : 웹 문서 불러오기\n",
    "        # 웹에서 얻은 데이터에 대한 객체를 돌려줌\n",
    "        with urlopen(query_url) as fin:\n",
    "            # <learning-python 레포의 json module 디렉토리 참고하기>\n",
    "\n",
    "            # json 모듈 - loads 함수\n",
    "            # json 문자열을 파이썬 객체로 다시 변경해준다.\n",
    "            return json.loads(fin.read().decode('utf-8'))\n",
    "\n",
    "    def simple(self, result): # 내가 가져오고 싶은거 가져올거다\n",
    "        \n",
    "        return [\n",
    "            {\n",
    "                'movieCd': entry.get('movieCd'),\n",
    "                'movieNm' : entry.get('movieNm'),\n",
    "                'repNationNm' : entry.get('repNationNm'),\n",
    "                'openDt': entry.get('openDt')\n",
    "                \n",
    "\n",
    "            }\n",
    "            for entry in result.get(\"movieListResult\").get(\"movieList\")\n",
    "        ]\n",
    "\n",
    "\n",
    "box2 = MovieList(api_key)\n",
    "movie_list = box2.get_list()\n",
    "\n",
    "a = box2.simple(movie_list)\n",
    "a"
   ]
  },
  {
   "cell_type": "markdown",
   "metadata": {},
   "source": [
    "# 영화의 상세 정보 데이터 가져오기"
   ]
  },
  {
   "cell_type": "code",
   "execution_count": 139,
   "metadata": {},
   "outputs": [
    {
     "data": {
      "text/plain": [
       "[{'영화명': '아쿠아맨',\n",
       "  '영화코드': '20180290',\n",
       "  '개봉일': '20181219',\n",
       "  '제작 국가': '미국',\n",
       "  '관람등급': '12세이상관람가'}]"
      ]
     },
     "execution_count": 139,
     "metadata": {},
     "output_type": "execute_result"
    }
   ],
   "source": [
    "class movie_detail(object):\n",
    "    base_url = 'http://www.kobis.or.kr/kobisopenapi/webservice/rest/movie/searchMovieInfo.json'\n",
    "\n",
    "    def __init__(self, api_key):\n",
    "        self.api_key = api_key\n",
    "        \n",
    "\n",
    "        \n",
    "\n",
    "    def get_detail(self):\n",
    "        # <learning-python 레포의 date,time module 디렉토리 참고하기>\n",
    "\n",
    "        # 현재의 날짜에 하루를 빼는 것\n",
    "        \n",
    "        # 년도월일 형식으로 저장\n",
    "        movieCd = '20180290'\n",
    "        # url 형성\n",
    "        query_url = '{}?key={}&movieCd={}'.format(self.base_url, self.api_key, movieCd)\n",
    "        # <learning-python 레포의 URLLIB module 디렉토리 참고하기>\n",
    "\n",
    "        # URLLIB 모듈 - urlopen 함수 : 웹 문서 불러오기\n",
    "        # 웹에서 얻은 데이터에 대한 객체를 돌려줌\n",
    "        with urlopen(query_url) as fin:\n",
    "            # <learning-python 레포의 json module 디렉토리 참고하기>\n",
    "\n",
    "            # json 모듈 - loads 함수\n",
    "            # json 문자열을 파이썬 객체로 다시 변경해준다.\n",
    "            return json.loads(fin.read().decode('utf-8'))\n",
    "\n",
    "    def simplify(self, result):\n",
    "        return [\n",
    "            {\n",
    "                '영화명': entry.get('movieNm'),\n",
    "                '영화코드': entry.get('movieCd'),\n",
    "                '개봉일': entry.get('openDt'),\n",
    "                '제작 국가': entry.get('nations')[0].get('nationNm'),\n",
    "                '관람등급' : entry.get('audits')[0].get('watchGradeNm')\n",
    "                # 일별 박스오피스 API 응답구조\n",
    "                # 응답필드  :   값   :   설명\n",
    "                # rank      : 문자열 : 해당일자의 박스오피스 순위를 출력합니다.\n",
    "                # movieNm   : 문자열 : 영화명(국문)을 출력합니다.\n",
    "                # movieCd   : 문자열 : 영화의 대표코드를 출력합니다.\n",
    "\n",
    "            }\n",
    "            for entry in [result.get(\"movieInfoResult\").get(\"movieInfo\")]\n",
    "        ]\n",
    "\n",
    "\n",
    "box2 = movie_detail(api_key)\n",
    "# 영화 정보(객체)\n",
    "detail = box2.get_detail()\n",
    "\n",
    "b = box2.simplify(detail)\n",
    "b"
   ]
  }
 ],
 "metadata": {
  "kernelspec": {
   "display_name": "Python 3",
   "language": "python",
   "name": "python3"
  },
  "language_info": {
   "codemirror_mode": {
    "name": "ipython",
    "version": 3
   },
   "file_extension": ".py",
   "mimetype": "text/x-python",
   "name": "python",
   "nbconvert_exporter": "python",
   "pygments_lexer": "ipython3",
   "version": "3.7.0"
  }
 },
 "nbformat": 4,
 "nbformat_minor": 2
}
