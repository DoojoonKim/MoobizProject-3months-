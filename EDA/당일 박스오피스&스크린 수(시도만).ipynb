{
 "cells": [
  {
   "cell_type": "code",
   "execution_count": 1,
   "metadata": {},
   "outputs": [],
   "source": [
    "import json\n",
    "import math\n",
    "import requests\n",
    "\n",
    "from pandas import datetime, Series\n",
    "from urllib.request import urlopen\n",
    "from tkinter import *\n",
    "from urllib.parse import urlencode\n",
    "import os\n",
    "import pandas as pd\n",
    "from datetime import datetime\n",
    "from datetime import timedelta"
   ]
  },
  {
   "cell_type": "code",
   "execution_count": 2,
   "metadata": {},
   "outputs": [],
   "source": [
    "movie_title_openDt = {'택시운전사': '20170802',\n",
    "'신과함께-죄와 벌': '20171220',\n",
    "'공조': '20170118',\n",
    "'스파이더맨: 홈 커밍': '20170705',\n",
    "'범죄도시': '20171003',\n",
    "'군함도': '20170726',\n",
    "'청년경찰': '20170809',\n",
    "'더 킹': '20170118',\n",
    "'미녀와 야수': '20170316',\n",
    "'킹스맨: 골든 서클': '20170927',\n",
    "'토르: 라그나로크': '20171025',\n",
    "'꾼': '20171122',\n",
    "'강철비': '20171214',\n",
    "'남한산성': '20171003',\n",
    "'미이라': '20170606',\n",
    "'분노의 질주: 더 익스트림': '20170412',\n",
    "'아이 캔 스피크': '20170921',\n",
    "'캐리비안의 해적: 죽은 자는 말이 없다': '20170524',\n",
    "'프리즌': '20170323',\n",
    "'덩케르크': '20170720',\n",
    "'가디언즈 오브 갤럭시 VOL. 2': '20170503',\n",
    "'살인자의 기억법': '20170906',\n",
    "'트랜스포머: 최후의 기사': '20170621',\n",
    "'보안관': '20170503',\n",
    "'조작된 도시': '20170209',\n",
    "'재심': '20170215',\n",
    "'박열': '20170628',\n",
    "'마스터': '20161221',\n",
    "'원더 우먼': '20170531',\n",
    "'겟 아웃': '20170517',\n",
    "'로건': '20170301',\n",
    "'혹성탈출: 종의 전쟁': '20170815',\n",
    "'1987': '20171227',\n",
    "'애나벨 : 인형의 주인': '20170810',\n",
    "'노무현입니다': '20170525',\n",
    "'저스티스 리그': '20171115',\n",
    "'킬러의 보디가드': '20170830',\n",
    "'콩: 스컬 아일랜드': '20170308',\n",
    "'23 아이덴티티': '20170222',\n",
    "'임금님의 사건수첩': '20170426',\n",
    "'부라더': '20171102',\n",
    "'기억의 밤': '20171129',\n",
    "'해피 데스데이': '20171108',\n",
    "'브이아이피': '20170823',\n",
    "'특별시민': '20170426',\n",
    "'에이리언: 커버넌트': '20170509',\n",
    "'장산범': '20170817',\n",
    "'악녀': '20170608',\n",
    "'해빙': '20170301',\n",
    "'라라랜드': '20161207',\n",
    "'하루': '20170615',\n",
    "'지오스톰': '20171019',\n",
    "'스타워즈: 라스트 제다이': '20171214',\n",
    "'불한당: 나쁜 놈들의 세상': '20170517',\n",
    "'그것': '20170906',\n",
    "'오리엔트 특급 살인': '20171129',\n",
    "'대립군': '20170531',\n",
    "'베이비 드라이버': '20170914',\n",
    "'위대한 쇼맨': '20171220',\n",
    "'레지던트 이블: 파멸의 날': '20170125',\n",
    "'공각기동대 : 고스트 인 더 쉘': '20170329',\n",
    "'패신저스': '20170104',\n",
    "'아빠는 딸': '20170412',\n",
    "'컨택트': '20170202',\n",
    "'47 미터': '20170719',\n",
    "'얼라이드': '20170111',\n",
    "'발레리안: 천 개 행성의 도시': '20170830',\n",
    "'그레이트 월': '20170215',\n",
    "'침묵': '20171102',\n",
    "'트리플 엑스 리턴즈': '20170208',\n",
    "'리얼': '20170628',\n",
    "'라이프': '20170405',\n",
    "'히든 피겨스': '20170323',\n",
    "'반드시 잡는다': '20171129',\n",
    "'원라인': '20170329',\n",
    "'로그 원: 스타워즈 스토리': '20161228',\n",
    "'킹 아서: 제왕의 검': '20170517',\n",
    "'아메리칸 메이드': '20170914',\n",
    "'보통사람': '20170323',\n",
    "'대장 김창수': '20171019',\n",
    "'어쌔신 크리드': '20170111',\n",
    "'플립': '20170712',\n",
    "'석조저택 살인사건': '20170509',\n",
    "'싱글라이더': '20170222',\n",
    "'7호실': '20171115',\n",
    "'사랑하기 때문에': '20170104',\n",
    "'희생부활자': '20171012',\n",
    "'옥자': '20170629',\n",
    "'블레이드 러너 2049': '20171012',\n",
    "'존 윅 - 리로드': '20170222',\n",
    "'판도라': '20161207',\n",
    "'미옥': '20171109',\n",
    "'어느날': '20170405',\n",
    "'어쌔신: 더 비기닝': '20171207',\n",
    "'50가지 그림자: 심연': '20170209',\n",
    "'핵소 고지': '20170222',\n",
    "'채비': '20171109',\n",
    "'더 큐어': '20170215',\n",
    "'아토믹 블론드': '20170830',\n",
    "'비정규직 특수요원': '20170316'}"
   ]
  },
  {
   "cell_type": "code",
   "execution_count": 3,
   "metadata": {},
   "outputs": [
    {
     "data": {
      "text/plain": [
       "dict_values(['20170802', '20171220', '20170118', '20170705', '20171003', '20170726', '20170809', '20170118', '20170316', '20170927', '20171025', '20171122', '20171214', '20171003', '20170606', '20170412', '20170921', '20170524', '20170323', '20170720', '20170503', '20170906', '20170621', '20170503', '20170209', '20170215', '20170628', '20161221', '20170531', '20170517', '20170301', '20170815', '20171227', '20170810', '20170525', '20171115', '20170830', '20170308', '20170222', '20170426', '20171102', '20171129', '20171108', '20170823', '20170426', '20170509', '20170817', '20170608', '20170301', '20161207', '20170615', '20171019', '20171214', '20170517', '20170906', '20171129', '20170531', '20170914', '20171220', '20170125', '20170329', '20170104', '20170412', '20170202', '20170719', '20170111', '20170830', '20170215', '20171102', '20170208', '20170628', '20170405', '20170323', '20171129', '20170329', '20161228', '20170517', '20170914', '20170323', '20171019', '20170111', '20170712', '20170509', '20170222', '20171115', '20170104', '20171012', '20170629', '20171012', '20170222', '20161207', '20171109', '20170405', '20171207', '20170209', '20170222', '20171109', '20170215', '20170830', '20170316'])"
      ]
     },
     "execution_count": 3,
     "metadata": {},
     "output_type": "execute_result"
    }
   ],
   "source": [
    "movie_title_openDt.values()"
   ]
  },
  {
   "cell_type": "code",
   "execution_count": 11,
   "metadata": {},
   "outputs": [
    {
     "data": {
      "text/plain": [
       "['20170802',\n",
       " '20171220',\n",
       " '20170118',\n",
       " '20170705',\n",
       " '20171003',\n",
       " '20170726',\n",
       " '20170809',\n",
       " '20170118',\n",
       " '20170316',\n",
       " '20170927',\n",
       " '20171025',\n",
       " '20171122',\n",
       " '20171214',\n",
       " '20171003',\n",
       " '20170606',\n",
       " '20170412',\n",
       " '20170921',\n",
       " '20170524',\n",
       " '20170323',\n",
       " '20170720',\n",
       " '20170503',\n",
       " '20170906',\n",
       " '20170621',\n",
       " '20170503',\n",
       " '20170209',\n",
       " '20170215',\n",
       " '20170628',\n",
       " '20161221',\n",
       " '20170531',\n",
       " '20170517',\n",
       " '20170301',\n",
       " '20170815',\n",
       " '20171227',\n",
       " '20170810',\n",
       " '20170525',\n",
       " '20171115',\n",
       " '20170830',\n",
       " '20170308',\n",
       " '20170222',\n",
       " '20170426',\n",
       " '20171102',\n",
       " '20171129',\n",
       " '20171108',\n",
       " '20170823',\n",
       " '20170426',\n",
       " '20170509',\n",
       " '20170817',\n",
       " '20170608',\n",
       " '20170301',\n",
       " '20161207',\n",
       " '20170615',\n",
       " '20171019',\n",
       " '20171214',\n",
       " '20170517',\n",
       " '20170906',\n",
       " '20171129',\n",
       " '20170531',\n",
       " '20170914',\n",
       " '20171220',\n",
       " '20170125',\n",
       " '20170329',\n",
       " '20170104',\n",
       " '20170412',\n",
       " '20170202',\n",
       " '20170719',\n",
       " '20170111',\n",
       " '20170830',\n",
       " '20170215',\n",
       " '20171102',\n",
       " '20170208',\n",
       " '20170628',\n",
       " '20170405',\n",
       " '20170323',\n",
       " '20171129',\n",
       " '20170329',\n",
       " '20161228',\n",
       " '20170517',\n",
       " '20170914',\n",
       " '20170323',\n",
       " '20171019',\n",
       " '20170111',\n",
       " '20170712',\n",
       " '20170509',\n",
       " '20170222',\n",
       " '20171115',\n",
       " '20170104',\n",
       " '20171012',\n",
       " '20170629',\n",
       " '20171012',\n",
       " '20170222',\n",
       " '20161207',\n",
       " '20171109',\n",
       " '20170405',\n",
       " '20171207',\n",
       " '20170209',\n",
       " '20170222',\n",
       " '20171109',\n",
       " '20170215',\n",
       " '20170830',\n",
       " '20170316']"
      ]
     },
     "execution_count": 11,
     "metadata": {},
     "output_type": "execute_result"
    }
   ],
   "source": [
    "# movie_title_openDt_dict = []\n",
    "# for i, a in enumerate(movie_title_openDt.values()):\n",
    "# #      dict = {'openDt':a}\n",
    "#     print(i,a)\n",
    "    \n",
    "\n",
    "    \n",
    "\n",
    "    \n",
    "#     movie_title_openDt_dict.append({i:a})\n",
    "# movie_title_openDt_dict\n",
    "\n",
    "movie_openDt_list = []\n",
    "for i, a in enumerate(movie_title_openDt.values()):\n",
    "#     a = a.sort()\n",
    "#     print(a)\n",
    "    \n",
    "        movie_openDt_list.append(a)\n",
    "movie_openDt_list"
   ]
  },
  {
   "cell_type": "code",
   "execution_count": 12,
   "metadata": {},
   "outputs": [],
   "source": [
    "def get_movie_data(movie_openDt_list):\n",
    "    url = \"http://www.kobis.or.kr/kobisopenapi/webservice/rest/boxoffice/searchDailyBoxOfficeList.json\"\n",
    "    params = {\"key\":\"a37309d4545a0c715c2171adbda24a74\", \"targetDt\":movie_openDt_list}\n",
    "    r = requests.get(url, params=params)\n",
    "    return r.json()"
   ]
  },
  {
   "cell_type": "code",
   "execution_count": 16,
   "metadata": {},
   "outputs": [],
   "source": [
    "def make_movie_df(self):\n",
    "    movie_df = pd.DataFrame(columns = [\"movieNm\",  \"openDt\", \"rank\", \"scrnCnt\"])\n",
    "    for i in movie_openDt_list:\n",
    "        try:\n",
    "            for data in get_movie_data(i)['boxOfficeResult']['dailyBoxOfficeList']:\n",
    "                \n",
    "                movie_df.loc[len(movie_df)] = [\n",
    "                    data[\"movieNm\"],\n",
    "                    data[\"openDt\"],\n",
    "\n",
    "                    \n",
    "                    data[\"rank\"],\n",
    "                    \n",
    "                    data[\"scrnCnt\"]\n",
    "\n",
    "                 \n",
    "                ]\n",
    "        except:\n",
    "            i\n",
    "    return movie_df"
   ]
  },
  {
   "cell_type": "code",
   "execution_count": 17,
   "metadata": {},
   "outputs": [],
   "source": [
    "a= make_movie_df(movie_openDt_list)"
   ]
  },
  {
   "cell_type": "code",
   "execution_count": 18,
   "metadata": {},
   "outputs": [
    {
     "data": {
      "text/html": [
       "<div>\n",
       "<style scoped>\n",
       "    .dataframe tbody tr th:only-of-type {\n",
       "        vertical-align: middle;\n",
       "    }\n",
       "\n",
       "    .dataframe tbody tr th {\n",
       "        vertical-align: top;\n",
       "    }\n",
       "\n",
       "    .dataframe thead th {\n",
       "        text-align: right;\n",
       "    }\n",
       "</style>\n",
       "<table border=\"1\" class=\"dataframe\">\n",
       "  <thead>\n",
       "    <tr style=\"text-align: right;\">\n",
       "      <th></th>\n",
       "      <th>movieNm</th>\n",
       "      <th>openDt</th>\n",
       "      <th>rank</th>\n",
       "      <th>scrnCnt</th>\n",
       "    </tr>\n",
       "  </thead>\n",
       "  <tbody>\n",
       "  </tbody>\n",
       "</table>\n",
       "</div>"
      ],
      "text/plain": [
       "Empty DataFrame\n",
       "Columns: [movieNm, openDt, rank, scrnCnt]\n",
       "Index: []"
      ]
     },
     "execution_count": 18,
     "metadata": {},
     "output_type": "execute_result"
    }
   ],
   "source": [
    "a"
   ]
  },
  {
   "cell_type": "code",
   "execution_count": null,
   "metadata": {},
   "outputs": [],
   "source": [
    "a"
   ]
  },
  {
   "cell_type": "code",
   "execution_count": null,
   "metadata": {},
   "outputs": [],
   "source": [
    "# b= a.drop_duplicates(subset='movieNm', keep='first')"
   ]
  },
  {
   "cell_type": "code",
   "execution_count": null,
   "metadata": {},
   "outputs": [],
   "source": [
    "# b.index = pd.RangeIndex(len(b.index))\n",
    "# b"
   ]
  },
  {
   "cell_type": "code",
   "execution_count": null,
   "metadata": {},
   "outputs": [],
   "source": [
    "b.to_excel('개봉일 스크린 수(2017).xlsx', encoding='utf-8')"
   ]
  },
  {
   "cell_type": "code",
   "execution_count": null,
   "metadata": {},
   "outputs": [],
   "source": []
  },
  {
   "cell_type": "code",
   "execution_count": null,
   "metadata": {},
   "outputs": [],
   "source": []
  },
  {
   "cell_type": "code",
   "execution_count": null,
   "metadata": {},
   "outputs": [],
   "source": []
  },
  {
   "cell_type": "code",
   "execution_count": null,
   "metadata": {},
   "outputs": [],
   "source": []
  },
  {
   "cell_type": "code",
   "execution_count": null,
   "metadata": {},
   "outputs": [],
   "source": []
  },
  {
   "cell_type": "code",
   "execution_count": null,
   "metadata": {},
   "outputs": [],
   "source": []
  },
  {
   "cell_type": "code",
   "execution_count": null,
   "metadata": {},
   "outputs": [],
   "source": []
  },
  {
   "cell_type": "code",
   "execution_count": null,
   "metadata": {},
   "outputs": [],
   "source": []
  },
  {
   "cell_type": "code",
   "execution_count": null,
   "metadata": {},
   "outputs": [],
   "source": []
  }
 ],
 "metadata": {
  "kernelspec": {
   "display_name": "Python 3",
   "language": "python",
   "name": "python3"
  },
  "language_info": {
   "codemirror_mode": {
    "name": "ipython",
    "version": 3
   },
   "file_extension": ".py",
   "mimetype": "text/x-python",
   "name": "python",
   "nbconvert_exporter": "python",
   "pygments_lexer": "ipython3",
   "version": "3.7.0"
  }
 },
 "nbformat": 4,
 "nbformat_minor": 2
}
