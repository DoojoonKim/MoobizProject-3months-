{
 "cells": [
  {
   "cell_type": "code",
   "execution_count": 1,
   "metadata": {},
   "outputs": [],
   "source": [
    "import pandas as pd\n",
    "from pandas import DataFrame, Series\n",
    "import os\n",
    "import sys\n",
    "# import service_identity\n",
    "import numpy as np\n",
    "import datetime"
   ]
  },
  {
   "cell_type": "markdown",
   "metadata": {},
   "source": [
    "# 2008~2017년 일별 박스오피스 데이터 셋"
   ]
  },
  {
   "cell_type": "code",
   "execution_count": 2,
   "metadata": {},
   "outputs": [],
   "source": [
    "DailyData_set = pd.read_excel('./data/DailyData_set(2008-2017).xlsx')"
   ]
  },
  {
   "cell_type": "markdown",
   "metadata": {},
   "source": [
    "# 2008~2018.03.01 영화 데이터 가져오기\n",
    "## 영화마다 국적 정보를 붙여주기 위해서이다"
   ]
  },
  {
   "cell_type": "code",
   "execution_count": 3,
   "metadata": {},
   "outputs": [],
   "source": [
    "MovieData = pd.read_excel('./data/영화정보 리스트(2008-2018.03.01).xlsx')"
   ]
  },
  {
   "cell_type": "code",
   "execution_count": 4,
   "metadata": {},
   "outputs": [],
   "source": [
    "MovieData.columns = ['movieNm', 'a', 'prdtDt', 'Nation', 'type','genre','b', 'director', 'company']"
   ]
  },
  {
   "cell_type": "code",
   "execution_count": 5,
   "metadata": {},
   "outputs": [],
   "source": [
    "MovieData = MovieData.drop('b', axis=1)\n",
    "MovieData = MovieData.drop('a', axis=1)"
   ]
  },
  {
   "cell_type": "code",
   "execution_count": 6,
   "metadata": {},
   "outputs": [],
   "source": [
    "MovieData = MovieData.drop(0,0)\n",
    "MovieData = MovieData.drop(1,0)"
   ]
  },
  {
   "cell_type": "code",
   "execution_count": 7,
   "metadata": {},
   "outputs": [],
   "source": [
    "BasicData_set = pd.merge(DailyData_set, MovieData, on = 'movieNm')"
   ]
  },
  {
   "cell_type": "code",
   "execution_count": 8,
   "metadata": {},
   "outputs": [],
   "source": [
    "BasicData_set.to_excel('./data/BasicData_set.xlsx', encoding='utf-8')"
   ]
  },
  {
   "cell_type": "code",
   "execution_count": 9,
   "metadata": {},
   "outputs": [],
   "source": [
    "\n",
    "df = pd.DataFrame({'movieNm':BasicData_set['movieNm'], 'Nation': BasicData_set['Nation']})"
   ]
  },
  {
   "cell_type": "markdown",
   "metadata": {},
   "source": [
    "# 영화마다 국적 특성값 부여"
   ]
  },
  {
   "cell_type": "markdown",
   "metadata": {},
   "source": [
    "## df_Nation 에서 Nation_att가 제대로 안나와서 이 코드들은 보류\n"
   ]
  },
  {
   "cell_type": "code",
   "execution_count": 10,
   "metadata": {},
   "outputs": [],
   "source": [
    "# df_Nation = pd.DataFrame({'movieNm':df['movieNm'], 'Nation':df['Nation'], 'Nation_att':''})\n",
    "# # Nation_list = []\n",
    "# for idx, a in enumerate(df_Nation['Nation']):\n",
    "\n",
    "# #     if type(a) is not str:\n",
    "# #         continue\n",
    "#     if a == '한국':\n",
    "#         df_Nation.iloc[idx]['Nation_att'] = 0\n",
    "#     elif a == '미국':\n",
    "#         df_Nation.iloc[idx]['Nation_att'] = 1\n",
    "#     else:\n",
    "#         df_Nation.iloc[idx]['Nation_att'] = 2\n",
    "        \n",
    "\n",
    "\n",
    "# df_Nation\n",
    "# # df_Nation.to_excel('./data/Nation_att.xlsx', encoding='utf-8')"
   ]
  },
  {
   "cell_type": "code",
   "execution_count": 11,
   "metadata": {},
   "outputs": [],
   "source": [
    "# df_Nation = df.drop_duplicates(subset='movieNm', keep='first')\n",
    "# df_Nation.index = pd.RangeIndex(len(df_Nation))\n",
    "# df_Nation"
   ]
  },
  {
   "cell_type": "markdown",
   "metadata": {},
   "source": [
    "# 새로운 코드로 df_Nation만들기"
   ]
  },
  {
   "cell_type": "code",
   "execution_count": 12,
   "metadata": {},
   "outputs": [],
   "source": [
    "df_Nation = pd.DataFrame({'movieNm':df['movieNm'], 'Nation': df['Nation'], 'Nation_att':'' })\n",
    "Nation_list = []\n",
    "\n",
    "for i, a in enumerate(df_Nation['Nation']):\n",
    "    if a == '한국':\n",
    "        Nation_list.append(0)\n",
    "    elif a == '미국':\n",
    "        Nation_list.append(1)\n",
    "    else:\n",
    "        Nation_list.append(2)\n",
    "Nation_list = pd.Series(Nation_list)\n",
    "df_Nation['Nation_att'] = Nation_list\n",
    "df_Nation = df_Nation.drop_duplicates('movieNm', keep='first')\n",
    "df_Nation.index = pd.RangeIndex(len(df_Nation))\n",
    "df_Nation.to_excel('./data/df_Nation_att.xlsx', encoding='utf-8')\n"
   ]
  },
  {
   "cell_type": "markdown",
   "metadata": {},
   "source": [
    "# 계절별 특성값 할당\n",
    "## 봄 : 0, 여름 : 1, 가을 :2, 겨울 : 3"
   ]
  },
  {
   "cell_type": "code",
   "execution_count": 13,
   "metadata": {},
   "outputs": [
    {
     "ename": "ValueError",
     "evalue": "Length mismatch: Expected axis has 37155 elements, new values have 2206 elements",
     "output_type": "error",
     "traceback": [
      "\u001b[0;31m---------------------------------------------------------------------------\u001b[0m",
      "\u001b[0;31mValueError\u001b[0m                                Traceback (most recent call last)",
      "\u001b[0;32m<ipython-input-13-384c0d7ed9f0>\u001b[0m in \u001b[0;36m<module>\u001b[0;34m()\u001b[0m\n\u001b[1;32m     15\u001b[0m \u001b[0mdf_Season\u001b[0m\u001b[0;34m[\u001b[0m\u001b[0;34m'openDt_Season_att'\u001b[0m\u001b[0;34m]\u001b[0m \u001b[0;34m=\u001b[0m \u001b[0mseason_list\u001b[0m\u001b[0;34m\u001b[0m\u001b[0m\n\u001b[1;32m     16\u001b[0m \u001b[0mdf_Season\u001b[0m \u001b[0;34m=\u001b[0m \u001b[0mdf_Season\u001b[0m\u001b[0;34m.\u001b[0m\u001b[0mdrop_duplicates\u001b[0m\u001b[0;34m(\u001b[0m\u001b[0;34m'movieNm'\u001b[0m\u001b[0;34m,\u001b[0m \u001b[0mkeep\u001b[0m\u001b[0;34m=\u001b[0m\u001b[0;34m'first'\u001b[0m\u001b[0;34m)\u001b[0m\u001b[0;34m\u001b[0m\u001b[0m\n\u001b[0;32m---> 17\u001b[0;31m \u001b[0mdf\u001b[0m\u001b[0;34m.\u001b[0m\u001b[0mindex\u001b[0m \u001b[0;34m=\u001b[0m \u001b[0mpd\u001b[0m\u001b[0;34m.\u001b[0m\u001b[0mRangeIndex\u001b[0m\u001b[0;34m(\u001b[0m\u001b[0mlen\u001b[0m\u001b[0;34m(\u001b[0m\u001b[0mdf_Season\u001b[0m\u001b[0;34m)\u001b[0m\u001b[0;34m)\u001b[0m\u001b[0;34m\u001b[0m\u001b[0m\n\u001b[0m\u001b[1;32m     18\u001b[0m \u001b[0mdf_Season\u001b[0m\u001b[0;34m\u001b[0m\u001b[0m\n\u001b[1;32m     19\u001b[0m \u001b[0mdf_Season\u001b[0m\u001b[0;34m.\u001b[0m\u001b[0mto_excel\u001b[0m\u001b[0;34m(\u001b[0m\u001b[0;34m'df_openDt_season.xlsx'\u001b[0m\u001b[0;34m,\u001b[0m \u001b[0mencoding\u001b[0m\u001b[0;34m=\u001b[0m\u001b[0;34m'utf-8'\u001b[0m\u001b[0;34m)\u001b[0m\u001b[0;34m\u001b[0m\u001b[0m\n",
      "\u001b[0;32m~/anaconda3/lib/python3.7/site-packages/pandas/core/generic.py\u001b[0m in \u001b[0;36m__setattr__\u001b[0;34m(self, name, value)\u001b[0m\n\u001b[1;32m   4387\u001b[0m         \u001b[0;32mtry\u001b[0m\u001b[0;34m:\u001b[0m\u001b[0;34m\u001b[0m\u001b[0m\n\u001b[1;32m   4388\u001b[0m             \u001b[0mobject\u001b[0m\u001b[0;34m.\u001b[0m\u001b[0m__getattribute__\u001b[0m\u001b[0;34m(\u001b[0m\u001b[0mself\u001b[0m\u001b[0;34m,\u001b[0m \u001b[0mname\u001b[0m\u001b[0;34m)\u001b[0m\u001b[0;34m\u001b[0m\u001b[0m\n\u001b[0;32m-> 4389\u001b[0;31m             \u001b[0;32mreturn\u001b[0m \u001b[0mobject\u001b[0m\u001b[0;34m.\u001b[0m\u001b[0m__setattr__\u001b[0m\u001b[0;34m(\u001b[0m\u001b[0mself\u001b[0m\u001b[0;34m,\u001b[0m \u001b[0mname\u001b[0m\u001b[0;34m,\u001b[0m \u001b[0mvalue\u001b[0m\u001b[0;34m)\u001b[0m\u001b[0;34m\u001b[0m\u001b[0m\n\u001b[0m\u001b[1;32m   4390\u001b[0m         \u001b[0;32mexcept\u001b[0m \u001b[0mAttributeError\u001b[0m\u001b[0;34m:\u001b[0m\u001b[0;34m\u001b[0m\u001b[0m\n\u001b[1;32m   4391\u001b[0m             \u001b[0;32mpass\u001b[0m\u001b[0;34m\u001b[0m\u001b[0m\n",
      "\u001b[0;32mpandas/_libs/properties.pyx\u001b[0m in \u001b[0;36mpandas._libs.properties.AxisProperty.__set__\u001b[0;34m()\u001b[0m\n",
      "\u001b[0;32m~/anaconda3/lib/python3.7/site-packages/pandas/core/generic.py\u001b[0m in \u001b[0;36m_set_axis\u001b[0;34m(self, axis, labels)\u001b[0m\n\u001b[1;32m    644\u001b[0m \u001b[0;34m\u001b[0m\u001b[0m\n\u001b[1;32m    645\u001b[0m     \u001b[0;32mdef\u001b[0m \u001b[0m_set_axis\u001b[0m\u001b[0;34m(\u001b[0m\u001b[0mself\u001b[0m\u001b[0;34m,\u001b[0m \u001b[0maxis\u001b[0m\u001b[0;34m,\u001b[0m \u001b[0mlabels\u001b[0m\u001b[0;34m)\u001b[0m\u001b[0;34m:\u001b[0m\u001b[0;34m\u001b[0m\u001b[0m\n\u001b[0;32m--> 646\u001b[0;31m         \u001b[0mself\u001b[0m\u001b[0;34m.\u001b[0m\u001b[0m_data\u001b[0m\u001b[0;34m.\u001b[0m\u001b[0mset_axis\u001b[0m\u001b[0;34m(\u001b[0m\u001b[0maxis\u001b[0m\u001b[0;34m,\u001b[0m \u001b[0mlabels\u001b[0m\u001b[0;34m)\u001b[0m\u001b[0;34m\u001b[0m\u001b[0m\n\u001b[0m\u001b[1;32m    647\u001b[0m         \u001b[0mself\u001b[0m\u001b[0;34m.\u001b[0m\u001b[0m_clear_item_cache\u001b[0m\u001b[0;34m(\u001b[0m\u001b[0;34m)\u001b[0m\u001b[0;34m\u001b[0m\u001b[0m\n\u001b[1;32m    648\u001b[0m \u001b[0;34m\u001b[0m\u001b[0m\n",
      "\u001b[0;32m~/anaconda3/lib/python3.7/site-packages/pandas/core/internals.py\u001b[0m in \u001b[0;36mset_axis\u001b[0;34m(self, axis, new_labels)\u001b[0m\n\u001b[1;32m   3321\u001b[0m             raise ValueError(\n\u001b[1;32m   3322\u001b[0m                 \u001b[0;34m'Length mismatch: Expected axis has {old} elements, new '\u001b[0m\u001b[0;34m\u001b[0m\u001b[0m\n\u001b[0;32m-> 3323\u001b[0;31m                 'values have {new} elements'.format(old=old_len, new=new_len))\n\u001b[0m\u001b[1;32m   3324\u001b[0m \u001b[0;34m\u001b[0m\u001b[0m\n\u001b[1;32m   3325\u001b[0m         \u001b[0mself\u001b[0m\u001b[0;34m.\u001b[0m\u001b[0maxes\u001b[0m\u001b[0;34m[\u001b[0m\u001b[0maxis\u001b[0m\u001b[0;34m]\u001b[0m \u001b[0;34m=\u001b[0m \u001b[0mnew_labels\u001b[0m\u001b[0;34m\u001b[0m\u001b[0m\n",
      "\u001b[0;31mValueError\u001b[0m: Length mismatch: Expected axis has 37155 elements, new values have 2206 elements"
     ]
    }
   ],
   "source": [
    "df_Season = pd.DataFrame({'movieNm':BasicData_set['movieNm'], 'openDt': BasicData_set['openDt'], 'openDt_Season_att':''\n",
    "                   })\n",
    "season_list = []\n",
    "for idx, a in enumerate(BasicData_set['openDt']):\n",
    "    a= datetime.datetime.strptime(a, '%Y-%m-%d')\n",
    "    if a.month >= 3 and a.month <= 5: \n",
    "        season_list.append(0)\n",
    "    elif a.month >= 6 and a.month <= 8: \n",
    "        season_list.append(1)\n",
    "    elif a.month >= 9 and a.month <= 11: \n",
    "        season_list.append(2)\n",
    "    else:\n",
    "        season_list.append(3)\n",
    "season_list = pd.Series(season_list)\n",
    "df_Season['openDt_Season_att'] = season_list\n",
    "df_Season = df_Season.drop_duplicates('movieNm', keep='first')\n",
    "df.index = pd.RangeIndex(len(df_Season))\n",
    "df_Season\n",
    "df_Season.to_excel('df_openDt_season.xlsx', encoding='utf-8')"
   ]
  },
  {
   "cell_type": "markdown",
   "metadata": {},
   "source": [
    "# 성수기(여름 : 0, 겨울 : 1), 비성수기 : 2"
   ]
  },
  {
   "cell_type": "code",
   "execution_count": null,
   "metadata": {},
   "outputs": [],
   "source": [
    "df_openDt_peak = pd.DataFrame({'movieNm':BasicData_set['movieNm'], 'openDt': BasicData_set['openDt'], \n",
    "                   'openDt_peak':''})\n",
    "\n",
    "for idx, a in enumerate(BasicData_set['openDt']):\n",
    "\n",
    "    a= datetime.datetime.strptime(a, '%Y-%m-%d')\n",
    "\n",
    "    if a.month == 7: \n",
    "        df_openDt_peak.iloc[idx]['openDt_peak'] = 0\n",
    "    elif a.month == 8: \n",
    "        df_openDt_peak.iloc[idx]['openDt_peak'] = 0\n",
    "    elif a.month == 9: \n",
    "        df_openDt_peak.iloc[idx]['openDt_peak'] = 0\n",
    "    elif a.month == 12: \n",
    "        df_openDt_peak.iloc[idx]['openDt_peak'] = 1\n",
    "    elif a.month == 1: \n",
    "        df_openDt_peak.iloc[idx]['openDt_peak'] = 1\n",
    "    elif a.month == 2: \n",
    "        df_openDt_peak.iloc[idx]['openDt_peak'] = 1\n",
    "    elif a.month == 3: \n",
    "        df_openDt_peak.iloc[idx]['openDt_peak'] = 2\n",
    "    elif a.month == 4: \n",
    "        df_openDt_peak.iloc[idx]['openDt_peak'] = 2\n",
    "    elif a.month == 5: \n",
    "        df_openDt_peak.iloc[idx]['openDt_peak'] = 2\n",
    "    elif a.month == 6: \n",
    "        df_openDt_peak.iloc[idx]['openDt_peak'] = 2\n",
    "    elif a.month == 10: \n",
    "        df_openDt_peak.iloc[idx]['openDt_peak'] = 2\n",
    "    elif a.month == 11: \n",
    "        df_openDt_peak.iloc[idx]['openDt_peak'] = 2\n",
    "\n",
    "df_openDt_peak = df_openDt_peak.drop_duplicates('movieNm', keep='first')\n",
    "df_openDt_peak.index = pd.RangeIndex(len(df_openDt_peak))\n",
    "df_openDt_peak\n",
    "df_openDt_peak.to_excel('openDt_peak.xlsx', encoding='utf-8')"
   ]
  },
  {
   "cell_type": "markdown",
   "metadata": {},
   "source": [
    "# 데이터셋 합치기"
   ]
  },
  {
   "cell_type": "code",
   "execution_count": null,
   "metadata": {},
   "outputs": [],
   "source": [
    "df_dataset_att = pd.merge(df_Nation, df_openDt_peak )\n",
    "df_dataset_att = pd.merge(df_dataset_att, df_Season)\n",
    "df_dataset_att"
   ]
  },
  {
   "cell_type": "code",
   "execution_count": null,
   "metadata": {},
   "outputs": [],
   "source": [
    "df_dataset_att = df_dataset_att.drop('Nation', 1)\n",
    "df_dataset_att = df_dataset_att.drop('openDt', 1)\n",
    "df_dataset_att.to_excel('./data/dataset_att', encoding='utf-8')"
   ]
  }
 ],
 "metadata": {
  "kernelspec": {
   "display_name": "Python 3",
   "language": "python",
   "name": "python3"
  },
  "language_info": {
   "codemirror_mode": {
    "name": "ipython",
    "version": 3
   },
   "file_extension": ".py",
   "mimetype": "text/x-python",
   "name": "python",
   "nbconvert_exporter": "python",
   "pygments_lexer": "ipython3",
   "version": "3.7.0"
  }
 },
 "nbformat": 4,
 "nbformat_minor": 2
}
