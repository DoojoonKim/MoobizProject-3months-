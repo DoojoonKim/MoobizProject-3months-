{
 "cells": [
  {
   "cell_type": "code",
   "execution_count": 4,
   "metadata": {},
   "outputs": [],
   "source": [
    "from selenium import webdriver as wd"
   ]
  },
  {
   "cell_type": "code",
   "execution_count": 5,
   "metadata": {},
   "outputs": [],
   "source": [
    "driver = wd.Chrome('./data/chromedriver.exe')\n",
    "driver.get( 'https://movie.naver.com/' )"
   ]
  },
  {
   "cell_type": "code",
   "execution_count": 6,
   "metadata": {},
   "outputs": [],
   "source": [
    "movieList = {'보헤미안랩소디','명량'}"
   ]
  },
  {
   "cell_type": "code",
   "execution_count": null,
   "metadata": {},
   "outputs": [],
   "source": [
    "movieBreviews = []\n",
    "for keyword in movieList :\n",
    "    driver.find_element_by_css_selector('#ipt_tx_srch').send_keys('%s'% keyword )\n",
    "    driver.find_element_by_css_selector('#jSearchArea > div > button').click()\n",
    "    driver.find_element_by_css_selector('#old_content > ul.search_list_1 > li > dl > dt > a > strong').click()\n",
    "    driver.find_element_by_css_selector('#movieEndTabMenu > li:nth-child(5) > a').click()\n",
    "    driver.find_element_by_css_selector('#beforePointTab > a').click()\n",
    "    score=driver.find_element_by_css_selector('#beforePointArea > div.sc_area.b_star > div')\n",
    "    movieScores.append(score.text[-4:])\n",
    "    "
   ]
  }
 ],
 "metadata": {
  "kernelspec": {
   "display_name": "Python 3",
   "language": "python",
   "name": "python3"
  },
  "language_info": {
   "codemirror_mode": {
    "name": "ipython",
    "version": 3
   },
   "file_extension": ".py",
   "mimetype": "text/x-python",
   "name": "python",
   "nbconvert_exporter": "python",
   "pygments_lexer": "ipython3",
   "version": "3.6.5"
  }
 },
 "nbformat": 4,
 "nbformat_minor": 2
}
